{
 "cells": [
  {
   "cell_type": "markdown",
   "metadata": {
    "collapsed": true
   },
   "source": [
    "## Car Market Value Estimation"
   ]
  },
  {
   "cell_type": "markdown",
   "metadata": {},
   "source": [
    "<span style='font-family:Helvetica'>\n",
    "The purpose of this Notebook is to load and clean the dataset, perform feature engineering on it i.e  do all the data cleaning and preprocessing steps and come up with optimzed machine learning model that can accurate provide value estimate for cars, incoprpotating all the factors such as mileage, car age etc.\n",
    "\n",
    "Here's a high-level approach to the problem:\n",
    "\n",
    "<b>Data Cleaning and Preprocessing:</b>\n",
    "- First, I will need to clean the data and handle missing values. For example, if the 'listing_price' is missing, I might need to drop that record because it's the target variable. For other missing values, techniques like mean/median imputation, or more sophisticated methods like K-NN imputation will be used (will depend on data health / percentage of missing values).\n",
    "\n",
    "<b>Feature Engineering:</b>\n",
    "- Next, i will see the co-rellation amoung different features and create new features that might be relevant to the car's price. For example, the car's age (current year - year), whether the car is luxury or not (based on the 'make'), etc.\n",
    "\n",
    "<b>Encoding Categorical Variables:</b>\n",
    "- Than we will need to convert categorical variables like 'make', 'model', 'trim', 'dealer_state', etc. into a form that can be provided to a machine learning model. I will be using One-Hot Encoding.\n",
    "\n",
    "<b>Model Building:</b>\n",
    "- I will start with a simple model like Linear Regression, and then try more complex models like Random Forest, Gradient Boosting, or Neural Networks. I will split the data into a training set and a test set to evaluate the model's performance.\n",
    "\n",
    "<b>Model Evaluation:</b>\n",
    "- I will be using metrics like Mean Absolute Error (MAE), Mean Squared Error (MSE), or R-squared to evaluate the model's performance.\n",
    "\n",
    "<b>Hyperparameter Tuning:</b>\n",
    "- If base line model accuracy is not acceptable or there is underfititng, overfitting i will need to further tune the hayperparameters. \n",
    "     </span>"
   ]
  },
  {
   "cell_type": "markdown",
   "metadata": {},
   "source": [
    "<span style='font-family:Helvetica'> Now, to address specific questions for mileage negative co-relation and other features that can be incorporated for improved accuracy:\n",
    "    \n",
    "- To account for the negative correlation between price and mileage, we can include 'mileage' as a feature in our model. The model will learn the relationship between mileage and price from the data. If the relationship is indeed negative, the model will capture that.\n",
    "    \n",
    "- Other factors we can incorporate include the car's age, whether it's used or certified, the dealer's location (some locations might have higher prices), the car's style, exterior and interior color, etc.\n",
    "\n",
    "<hr style=\"border:2px solid gray\">\n",
    "</span>"
   ]
  },
  {
   "cell_type": "code",
   "execution_count": 7,
   "metadata": {},
   "outputs": [],
   "source": [
    "import joblib\n",
    "import pandas as pd\n",
    "import numpy as np\n",
    "from sklearn.model_selection import train_test_split\n",
    "from sklearn.linear_model import LinearRegression\n",
    "from sklearn.metrics import mean_squared_error\n",
    "from sklearn.preprocessing import OneHotEncoder, LabelEncoder\n",
    "from sklearn.impute import SimpleImputer\n",
    "from sklearn.pipeline import Pipeline\n",
    "from sklearn.compose import ColumnTransformer"
   ]
  },
  {
   "cell_type": "markdown",
   "metadata": {},
   "source": [
    "<span style='font-family:Helvetica'> `CarPricePredictor` class will encapsulates all the steps needed to train a model to predict car prices. It uses a linear regression model, but can be switched to any other model by changing the `self.model` property.</span>"
   ]
  },
  {
   "cell_type": "code",
   "execution_count": 63,
   "metadata": {},
   "outputs": [],
   "source": [
    "\"\"\"\n",
    "    Car Price Estimation Model\n",
    "\n",
    "    This module implements a car price estimation model using a machine learning approach. It preprocesses the car market \n",
    "    dataset, performs feature engineering, encodes categorical variables, and trains a regression model to predict car \n",
    "    prices.\n",
    "\n",
    "    Attributes:\n",
    "        - features (pandas.DataFrame): The preprocessed features of the dataset.\n",
    "        - target (str): The target variable name.\n",
    "        - model (sklearn.estimator): The trained regression model.\n",
    "        - preprocessor (sklearn.compose.ColumnTransformer): The data preprocessing pipeline.\n",
    "\n",
    "    Methods:\n",
    "        - __init__(self, df, model): Initializes the CarPriceEstimationModel object.\n",
    "        - load_data(self): Load the raw car market dataset from the specified data path.\n",
    "        - preprocess_data(self, df): Perform data cleaning and preprocessing steps.\n",
    "        - prepare_pipeline(self): Defines the preprocessing steps and creates a pipeline.\n",
    "        - train_model(self, test_size=0.2): Trains the regression model using the preprocessed data.\n",
    "        - predict(self, X_test): Predicts car prices for the given test data.\n",
    "\n",
    "\"\"\"\n",
    "\n",
    "class CarPricePredictor:\n",
    "    def __init__(self, data_path):\n",
    "        self.data_path = data_path\n",
    "        self.model = LinearRegression()\n",
    "        self.preprocessor = None\n",
    "        self.features = None\n",
    "        self.target = None\n",
    "\n",
    "    def load_data(self):\n",
    "        df = pd.read_csv(self.data_path, delimiter='|')\n",
    "        return df\n",
    "\n",
    "    def preprocess_data(self, df):\n",
    "        df['age'] = 2023 - df['year']\n",
    "        df.drop(['year'], axis=1, inplace=True)\n",
    "        df.dropna(subset=['make', 'model', 'listing_price', 'age'],inplace=True)\n",
    "        df.replace([np.inf, -np.inf, np.nan, 'N/a'], 0, inplace=True)\n",
    "        self.features = df.drop(['vin', 'trim', 'dealer_name', 'dealer_street', 'dealer_city', 'dealer_state', 'dealer_zip',\n",
    "                                 'listing_mileage', 'used', 'certified', 'style', 'driven_wheels', 'engine', 'fuel_type',\n",
    "                                 'exterior_color', 'interior_color', 'seller_website', 'first_seen_date',\n",
    "                                 'last_seen_date', 'dealer_vdp_last_seen_date', 'listing_status','listing_price'], axis=1)\n",
    "        \n",
    "        \n",
    "        self.target = df['listing_price']\n",
    "\n",
    "    def prepare_pipeline(self):\n",
    "        numeric_features = self.features.select_dtypes(include=['int64', 'float64']).columns\n",
    "        categorical_features = self.features.select_dtypes(include=['object']).columns\n",
    "\n",
    "        numeric_transformer = Pipeline(steps=[\n",
    "            ('imputer', SimpleImputer(strategy='median'))])\n",
    "\n",
    "        categorical_transformer = Pipeline(steps=[\n",
    "            ('imputer', SimpleImputer(strategy='constant', fill_value='missing')),\n",
    "            ('onehot', OneHotEncoder(handle_unknown='ignore'))])\n",
    "\n",
    "        self.preprocessor = ColumnTransformer(\n",
    "            transformers=[\n",
    "                ('num', numeric_transformer, numeric_features),\n",
    "                ('cat', categorical_transformer, categorical_features)])\n",
    "\n",
    "    def train_model(self):\n",
    "        X_train, X_test, y_train, y_test = train_test_split(self.features, self.target, test_size=0.2, random_state=0)\n",
    "        X_train = self.preprocessor.fit_transform(X_train)\n",
    "        self.model.fit(X_train, y_train)\n",
    "        X_test = self.preprocessor.transform(X_test)\n",
    "        y_pred = self.model.predict(X_test)\n",
    "        print('Model trained successfully. MSE:', mean_squared_error(y_test, y_pred))\n",
    "\n",
    "    def predict(self, data):\n",
    "        data = self.preprocessor.transform(data)\n",
    "        return self.model.predict(data)"
   ]
  },
  {
   "cell_type": "markdown",
   "metadata": {},
   "source": [
    "."
   ]
  },
  {
   "cell_type": "code",
   "execution_count": null,
   "metadata": {},
   "outputs": [],
   "source": [
    "# Usage\n",
    "predictor = CarPricePredictor('raw_dataset.txt')\n",
    "df = predictor.load_data()\n",
    "predictor.preprocess_data(df)\n",
    "predictor.prepare_pipeline()\n",
    "predictor.train_model()"
   ]
  },
  {
   "cell_type": "code",
   "execution_count": 65,
   "metadata": {},
   "outputs": [
    {
     "data": {
      "text/plain": [
       "['Weights/preprocessor.pkl']"
      ]
     },
     "execution_count": 65,
     "metadata": {},
     "output_type": "execute_result"
    }
   ],
   "source": [
    "joblib.dump(predictor.model, 'Weights/model.pkl')\n",
    "joblib.dump(predictor.preprocessor, 'Weights/preprocessor.pkl')\n"
   ]
  }
 ],
 "metadata": {
  "kernelspec": {
   "display_name": "Python 3 (ipykernel)",
   "language": "python",
   "name": "python3"
  },
  "language_info": {
   "codemirror_mode": {
    "name": "ipython",
    "version": 3
   },
   "file_extension": ".py",
   "mimetype": "text/x-python",
   "name": "python",
   "nbconvert_exporter": "python",
   "pygments_lexer": "ipython3",
   "version": "3.7.13"
  }
 },
 "nbformat": 4,
 "nbformat_minor": 1
}
